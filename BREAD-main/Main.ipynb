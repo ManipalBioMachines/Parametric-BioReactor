{
 "cells": [
  {
   "cell_type": "markdown",
   "id": "dcae1fbe",
   "metadata": {},
   "source": [
    "# Parametric Modeller\n"
   ]
  },
  {
   "cell_type": "code",
   "execution_count": 1,
   "id": "a4f361b0",
   "metadata": {},
   "outputs": [
    {
     "name": "stdout",
     "output_type": "stream",
     "text": [
      "Overwriting auto display for cadquery Workplane and Shape\n"
     ]
    },
    {
     "data": {
      "text/html": [
       "<style>\n",
       ".scroll-area {\n",
       "    overflow: scroll !important;\n",
       "    border: unset !important;\n",
       "}\n",
       "\n",
       ".mac-scrollbar::-webkit-scrollbar {\n",
       "    width: 5px !important;\n",
       "    height: 5px !important;\n",
       "}\n",
       "\n",
       ".mac-scrollbar::-webkit-scrollbar-track {\n",
       "    background-color: transparent !important;\n",
       "}\n",
       "\n",
       ".mac-scrollbar .widget-html-content {\n",
       "    overflow-x: visible;\n",
       "    overflow-y: visible;\n",
       "}\n",
       "\n",
       ".tab-content-no-padding .widget-tab-contents {\n",
       "    overflow-x: visible !important;\n",
       "    overflow-y: visible !important;\n",
       "    padding-bottom: 0px !important;\n",
       "}\n",
       "\n",
       ".view_renderer {\n",
       "    border: 1px solid var(--jp-border-color1);\n",
       "    margin-top: 3px;\n",
       "    margin-left: 2px;\n",
       "}\n",
       "\n",
       ".view_tree {\n",
       "    padding: 0px !important;\n",
       "}\n",
       "\n",
       ".view_axes {\n",
       "    width: 60px !important;\n",
       "    margin-left: 5px !important;\n",
       "}\n",
       "\n",
       ".view_zero {\n",
       "    width: 55px !important;\n",
       "}\n",
       "\n",
       ".view_grid {\n",
       "    width: 56px !important;\n",
       "}\n",
       "\n",
       ".view_ortho {\n",
       "    width: 64px !important;\n",
       "}\n",
       "\n",
       ".view_transparent {\n",
       "    width: 125px !important;\n",
       "}\n",
       "\n",
       ".view_black_edges {\n",
       "    width: 105px !important;\n",
       "}\n",
       "\n",
       ".view_button {\n",
       "    padding: 0px !important;\n",
       "}\n",
       "\n",
       ".view_button>img {\n",
       "    height: 28px;\n",
       "    width: 36px;\n",
       "}\n",
       "\n",
       ".node_entry_wrap {\n",
       "    white-space: pre;\n",
       "}\n",
       "\n",
       ".node_entry {\n",
       "    white-space: nowrap;\n",
       "    padding-top: 4px;\n",
       "}\n",
       "\n",
       ".t-caret {\n",
       "    cursor: pointer;\n",
       "    -webkit-user-select: none;\n",
       "    /* Safari 3.1+ */\n",
       "    -moz-user-select: none;\n",
       "    /* Firefox 2+ */\n",
       "    -ms-user-select: none;\n",
       "    /* IE 10+ */\n",
       "    user-select: none;\n",
       "}\n",
       "\n",
       ".t-caret-down::before {\n",
       "    -ms-transform: rotate(90deg);\n",
       "    /* IE 9 */\n",
       "    -webkit-transform: rotate(90deg);\n",
       "    /* Safari */\n",
       "    transform: rotate(90deg);\n",
       "}\n",
       "\n",
       ".toplevel {\n",
       "    list-style-type: none;\n",
       "    padding-inline-start: 0px;\n",
       "}\n",
       "\n",
       ".nested {\n",
       "    display: none;\n",
       "    list-style-type: none;\n",
       "    padding-inline-start: 16px;\n",
       "}\n",
       "\n",
       ".active {\n",
       "    display: block;\n",
       "}\n",
       "\n",
       ".icon {\n",
       "    width: 28px !important;\n",
       "    height: 22px !important;\n",
       "    padding-right: 2px;\n",
       "    vertical-align: middle;\n",
       "}\n",
       "\n",
       ".indent {\n",
       "    margin-left: 12px;\n",
       "}\n",
       "\n",
       ".tree_label {\n",
       "    padding-left: 2px;\n",
       "    font-size: 14px;\n",
       "}\n",
       "\n",
       ".scroll_down {\n",
       "    display: flex;\n",
       "    flex-direction: column-reverse;\n",
       "}\n",
       "\n",
       ".small_table {\n",
       "    line-height: 14px;\n",
       "}\n",
       "\n",
       ".monospace select {\n",
       "    font-family: monospace;\n",
       "}\n",
       "\n",
       "        .t-caret::before {\n",
       "            content: u\"▶\";\n",
       "            font-size: 12px;\n",
       "            color: \"#080808\";\n",
       "            display: inline-block;\n",
       "            margin-right: 2px;\n",
       "        }\n",
       "\n",
       "        .mac-scrollbar::-webkit-scrollbar-thumb {\n",
       "            background-color: rgba(0, 0, 0, 0.2) !important;\n",
       "            border-radius: 100px !important;\n",
       "        }\n",
       "\n",
       "        .mac-scrollbar::-webkit-scrollbar-thumb:hover {\n",
       "            background: rgba(0, 0, 0, 0.4) !important;\n",
       "        }\n",
       "\n",
       "        .mac-scrollbar::-webkit-scrollbar-thumb:active {\n",
       "            background: #181818 !important;\n",
       "        }\n",
       "\n",
       "        .mac-scrollbar::-webkit-scrollbar-corner {\n",
       "            background: white;\n",
       "        }\n",
       "\n",
       "        .view_output {\n",
       "            border: 1px solid var(--jp-border-color1);\n",
       "            margin: 2px 2px 2px 2px !important;\n",
       "            padding-right: 1px !important;\n",
       "            background-color: white;\n",
       "        }\n",
       "    </style>"
      ],
      "text/plain": [
       "<IPython.core.display.HTML object>"
      ]
     },
     "metadata": {},
     "output_type": "display_data"
    }
   ],
   "source": [
    "#Import Neccesary packages and libraries\n",
    "import cadquery as cq\n",
    "import math\n",
    "from jupyter_cadquery.cadquery import (PartGroup, Part, Edges, Faces, Vertices, show)\n",
    "from jupyter_cadquery import set_sidecar, set_defaults\n",
    "\n",
    "set_defaults(axes=False, grid=True, axes0=True, ortho=True, transparent=True)\n",
    "set_sidecar(\"CadQuery\", init=True)\n"
   ]
  },
  {
   "cell_type": "markdown",
   "id": "ef877454",
   "metadata": {},
   "source": [
    "## Making a Tank\n",
    "\n"
   ]
  },
  {
   "cell_type": "markdown",
   "id": "377d299b-5743-4039-b0b2-96a7eadb4d12",
   "metadata": {},
   "source": [
    "##### Rules \n",
    "-  Get the Volume of tank\n",
    "-  Get the Length to Diameter Ratio\n",
    "-  Calculate Radius and Height of the Tank (Vol = 80% working volume)\n",
    "-  All units in cms\n"
   ]
  },
  {
   "cell_type": "code",
   "execution_count": 2,
   "id": "4dddc21b",
   "metadata": {},
   "outputs": [
    {
     "name": "stdin",
     "output_type": "stream",
     "text": [
      "Enter the volume of the Tank in (litres):  50\n",
      "Enter the Height to Diameter Ratio of the tank(Decimal) :  2\n"
     ]
    }
   ],
   "source": [
    "# get dimensions\n",
    "\n",
    "Volume = input(\"Enter the volume of the Tank in (litres): \")\n",
    "H_D = input(\"Enter the Height to Diameter Ratio of the tank(Decimal) : \")\n",
    "Volume = int(Volume)\n",
    "H_D = float(H_D)\n"
   ]
  },
  {
   "cell_type": "code",
   "execution_count": 3,
   "id": "2f54cd68-a2b2-4a68-a8aa-2334492e25f7",
   "metadata": {},
   "outputs": [
    {
     "name": "stdout",
     "output_type": "stream",
     "text": [
      "62\n",
      "6.8095842870482555\n",
      "3.404792143524127\n",
      "2.0000000000000004\n"
     ]
    }
   ],
   "source": [
    "TotalVolume = int(10/8*Volume)\n",
    "#temp = DR*LR\n",
    "Diameter = pow((4*TotalVolume/((math.pi)* H_D)),1/3)\n",
    "Height = ((4*TotalVolume)/((math.pi)*pow(Diameter, 2)))\n",
    "# Volume = pi x dia x dia x height / 4 => dia^3 x H_D /4 x pi = volume => \n",
    "# dia = (4 x volume/pi x H_D)^3\n",
    "# height = (4 x volume/ pi x dia x dia)\n",
    "# height / dia = H_D => dia = height / H_D => height = dia x H_D\n",
    "#Diameter = 10\n",
    "#Height = 20\n",
    "Thickness = 0.2\n",
    "BaseThickness = 0.2\n",
    "Radius = Diameter/2\n",
    "print(TotalVolume)\n",
    "print(Height)\n",
    "print(Diameter)\n",
    "print(Height/Diameter)\n"
   ]
  },
  {
   "cell_type": "markdown",
   "id": "dd14dbf0-ddf2-45dd-bb59-41224c10cb13",
   "metadata": {},
   "source": [
    "##### Making the Tank"
   ]
  },
  {
   "cell_type": "code",
   "execution_count": 4,
   "id": "937ec5c7-2e94-4c7f-bfa6-4c239af3fe58",
   "metadata": {},
   "outputs": [],
   "source": [
    "# circle dimensions =- Radius+Thickness\n",
    "Tank = cq.Workplane(\"front\").circle(Radius+Thickness).extrude(BaseThickness)\\\n",
    "            .workplane().circle(Radius+Thickness).circle(Radius).extrude(Height)\n",
    "#result = result.extrude(BaseThickness)"
   ]
  },
  {
   "cell_type": "markdown",
   "id": "87c5ff72-cc13-4cd5-aa3e-abd17abaea12",
   "metadata": {},
   "source": [
    "##### Making the Shaft"
   ]
  },
  {
   "cell_type": "code",
   "execution_count": 5,
   "id": "1a8753c1-9552-4494-a1d9-42fe713538e0",
   "metadata": {},
   "outputs": [
    {
     "name": "stdout",
     "output_type": "stream",
     "text": [
      "5\n"
     ]
    }
   ],
   "source": [
    "#Circle Dimensions = 10% of Diamter if 5>diameter>0 then Diameter =5\n",
    "#if Diamter>5 diamter = 10% of tank diameter\n",
    "\n",
    "ShaftDiameter = Diameter / 10\n",
    "\n",
    "if ShaftDiameter<5:\n",
    "    ShaftDiameter = 5\n",
    "else :\n",
    "    ShaftDiameter = ShaftDiameter\n",
    "\n",
    "print(ShaftDiameter)\n",
    "\n",
    "center = Height/4\n",
    "\n",
    "# Shaft placement 1/4 from the base of the Tank\n",
    "# Create plane offset by 1/4th of height from the base, extrude 3/4th from the plane\n",
    "\n",
    "Shaft = cq.Workplane(\"front\").workplane(offset=center).circle(ShaftDiameter/2).extrude(3/4*Height)\n",
    "\n",
    "#result.faces(\"<X\").workplane(offset=0.75)    # workplane is offset from the object surface\n",
    "#result = result.circle(1.0).extrude(0.5)   "
   ]
  },
  {
   "cell_type": "markdown",
   "id": "439293f6-e754-489d-bf06-ce1c36017e28",
   "metadata": {},
   "source": [
    "### Displaying the Model\n"
   ]
  },
  {
   "cell_type": "code",
   "execution_count": 6,
   "id": "183e600f-5925-473a-89ae-7096d57d7f92",
   "metadata": {},
   "outputs": [
    {
     "name": "stdout",
     "output_type": "stream",
     "text": [
      "Done, using side car 'Cadquery'\n"
     ]
    },
    {
     "data": {
      "text/plain": [
       "<jupyter_cadquery.cad_display.CadqueryDisplay at 0x25020d43ee0>"
      ]
     },
     "execution_count": 6,
     "metadata": {},
     "output_type": "execute_result"
    }
   ],
   "source": [
    "a1 = PartGroup(\n",
    "    [\n",
    "        Part(Tank, \"Tank\",   \"#808080\", show_edges=False),  \n",
    "    ],\n",
    "    \"Parametric Modeller\"\n",
    ")\n",
    "\n",
    "show(a1, grid=False)  # overwrite grid default value"
   ]
  },
  {
   "cell_type": "markdown",
   "id": "0fa3f03f-1474-42be-9e71-ec36321194db",
   "metadata": {},
   "source": [
    "### Exporting the Model"
   ]
  },
  {
   "cell_type": "code",
   "execution_count": 7,
   "id": "a55fc340-2e7b-448e-8714-8b50affbad28",
   "metadata": {},
   "outputs": [],
   "source": [
    "cq.exporters.export(Tank,'tank.stl')\n"
   ]
  },
  {
   "cell_type": "code",
   "execution_count": null,
   "id": "c5defa8f-a7b4-4ad7-b6f2-72fa3eb799b5",
   "metadata": {},
   "outputs": [],
   "source": []
  },
  {
   "cell_type": "code",
   "execution_count": null,
   "id": "d57995ba-9795-45b2-baa3-362215957c4e",
   "metadata": {},
   "outputs": [],
   "source": []
  },
  {
   "cell_type": "code",
   "execution_count": null,
   "id": "ae3ecb45-c45f-4b78-833d-f316a84d846d",
   "metadata": {},
   "outputs": [],
   "source": []
  }
 ],
 "metadata": {
  "kernelspec": {
   "display_name": "Python 3 (ipykernel)",
   "language": "python",
   "name": "python3"
  },
  "language_info": {
   "codemirror_mode": {
    "name": "ipython",
    "version": 3
   },
   "file_extension": ".py",
   "mimetype": "text/x-python",
   "name": "python",
   "nbconvert_exporter": "python",
   "pygments_lexer": "ipython3",
   "version": "3.8.11"
  }
 },
 "nbformat": 4,
 "nbformat_minor": 5
}
